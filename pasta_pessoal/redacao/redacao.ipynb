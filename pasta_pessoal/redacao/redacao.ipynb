{
 "cells": [
  {
   "cell_type": "code",
   "execution_count": 14,
   "metadata": {},
   "outputs": [],
   "source": [
    "import sys\n",
    "import os\n",
    "\n",
    "# Obtém o caminho do diretório do script atual\n",
    "script_dir = os.getcwd()\n",
    "\n",
    "# Adiciona o diretório pai ao caminho do sistema\n",
    "sys.path.append(script_dir)"
   ]
  },
  {
   "cell_type": "code",
   "execution_count": 15,
   "metadata": {},
   "outputs": [],
   "source": [
    "import cv2\n",
    "import numpy as np\n",
    "image = cv2.imread('nwbufpqf.png', cv2.IMREAD_GRAYSCALE)"
   ]
  },
  {
   "cell_type": "code",
   "execution_count": 16,
   "metadata": {},
   "outputs": [],
   "source": [
    "_, binary_image = cv2.threshold(image, 0, 255, cv2.THRESH_BINARY_INV + cv2.THRESH_OTSU)"
   ]
  },
  {
   "cell_type": "code",
   "execution_count": 17,
   "metadata": {},
   "outputs": [],
   "source": [
    "import cv2\n",
    "import numpy as np\n",
    "\n",
    "# Coordenadas dos 4 pontos que você já conhece (substitua pelos seus valores)\n",
    "pontos_conhecidos = [(100, 150), (300, 150), (300, 400), (100, 400)]  # Exemplo: (x1, y1), (x2, y2), (x3, y3), (x4, y4)\n",
    "\n",
    "# Definir os pontos de origem (os 4 pontos que você já conhece)\n",
    "src_points = np.float32(pontos_conhecidos)\n",
    "\n",
    "# Definir os pontos de destino (um retângulo)\n",
    "width = 500  # Largura da região recortada\n",
    "height = 500  # Altura da região recortada\n",
    "dst_points = np.float32([[0, 0], [width, 0], [width, height], [0, height]])\n",
    "\n",
    "# Calcular a matriz de transformação de perspectiva\n",
    "matrix = cv2.getPerspectiveTransform(src_points, dst_points)\n",
    "\n",
    "# Aplicar a transformação de perspectiva\n",
    "result = cv2.warpPerspective(image, matrix, (width, height))\n",
    "\n",
    "# Salvar a imagem recortada\n",
    "cv2.imwrite('regiao_recortada.png', result)\n",
    "\n",
    "# Exibir a região recortada\n",
    "cv2.imshow(\"Região Recortada\", result)\n",
    "cv2.waitKey(0)\n",
    "\n",
    "# Fechar todas as janelas\n",
    "cv2.destroyAllWindows()"
   ]
  },
  {
   "cell_type": "code",
   "execution_count": null,
   "metadata": {},
   "outputs": [],
   "source": []
  },
  {
   "cell_type": "code",
   "execution_count": null,
   "metadata": {},
   "outputs": [],
   "source": [
    "import cv2\n",
    "import numpy as np\n",
    "\n",
    "# Coordenadas dos 4 pontos que você já conhece (substitua pelos seus valores)\n",
    "pontos_conhecidos = [(100, 150), (300, 150), (300, 400), (100, 400)]  # Exemplo: (x1, y1), (x2, y2), (x3, y3), (x4, y4)\n",
    "\n",
    "# Definir os pontos de origem (os 4 pontos que você já conhece)\n",
    "src_points = np.float32(pontos_conhecidos)\n",
    "\n",
    "# Definir os pontos de destino (um retângulo)\n",
    "width = 500  # Largura da região recortada\n",
    "height = 500  # Altura da região recortada\n",
    "dst_points = np.float32([[0, 0], [width, 0], [width, height], [0, height]])\n",
    "\n",
    "# Calcular a matriz de transformação de perspectiva\n",
    "matrix = cv2.getPerspectiveTransform(src_points, dst_points)\n",
    "\n",
    "# Aplicar a transformação de perspectiva\n",
    "result = cv2.warpPerspective(image, matrix, (width, height))\n",
    "\n",
    "# Salvar a imagem recortada\n",
    "cv2.imwrite('regiao_recortada.png', result)\n",
    "\n",
    "# Exibir a região recortada\n",
    "cv2.imshow(\"Região Recortada\", result)\n",
    "cv2.waitKey(0)\n",
    "\n",
    "# Fechar todas as janelas\n",
    "cv2.destroyAllWindows()"
   ]
  },
  {
   "cell_type": "code",
   "execution_count": null,
   "metadata": {},
   "outputs": [
    {
     "name": "stdout",
     "output_type": "stream",
     "text": [
      "Coordenadas: (14, 184)\n",
      "Coordenadas: (14, 189)\n",
      "Coordenadas: (629, 828)\n",
      "Coordenadas: (657, 879)\n",
      "Coordenadas: (271, 430)\n",
      "Coordenadas: (273, 428)\n",
      "Coordenadas: (147, 264)\n",
      "Coordenadas: (285, 287)\n",
      "Coordenadas: (217, 295)\n"
     ]
    }
   ],
   "source": [
    "import cv2\n",
    "\n",
    "# Função para capturar cliques do mouse\n",
    "def get_coordinates(event, x, y, flags, param):\n",
    "    if event == cv2.EVENT_LBUTTONDOWN:\n",
    "        print(f\"Coordenadas: ({x}, {y})\")\n",
    "\n",
    "# Carregar a imagem\n",
    "image = cv2.imread('nwbufpqf.png')\n",
    "\n",
    "# Verificar se a imagem foi carregada corretamente\n",
    "if image is None:\n",
    "    print(\"Erro: Não foi possível carregar a imagem. Verifique o caminho do arquivo.\")\n",
    "    exit()\n",
    "\n",
    "# Exibir a imagem e capturar cliques do mouse\n",
    "cv2.namedWindow(\"Selecione os Pontos\")\n",
    "cv2.setMouseCallback(\"Selecione os Pontos\", get_coordinates)\n",
    "\n",
    "while True:\n",
    "    cv2.imshow(\"Selecione os Pontos\", image)\n",
    "    key = cv2.waitKey(1) & 0xFF\n",
    "    if key == ord(\"q\"):  # Pressione 'q' para sair\n",
    "        break\n",
    "\n",
    "cv2.destroyAllWindows()"
   ]
  }
 ],
 "metadata": {
  "kernelspec": {
   "display_name": "Python 3",
   "language": "python",
   "name": "python3"
  },
  "language_info": {
   "codemirror_mode": {
    "name": "ipython",
    "version": 3
   },
   "file_extension": ".py",
   "mimetype": "text/x-python",
   "name": "python",
   "nbconvert_exporter": "python",
   "pygments_lexer": "ipython3",
   "version": "3.11.4"
  }
 },
 "nbformat": 4,
 "nbformat_minor": 2
}
