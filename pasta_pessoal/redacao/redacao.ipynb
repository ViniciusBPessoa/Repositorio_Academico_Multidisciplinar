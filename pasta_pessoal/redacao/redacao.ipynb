{
 "cells": [
  {
   "cell_type": "code",
   "execution_count": 5,
   "metadata": {},
   "outputs": [],
   "source": [
    "import sys\n",
    "import os\n",
    "\n",
    "# Obtém o caminho do diretório do script atual\n",
    "script_dir = os.getcwd()\n",
    "\n",
    "# Adiciona o diretório pai ao caminho do sistema\n",
    "sys.path.append(script_dir)"
   ]
  },
  {
   "cell_type": "code",
   "execution_count": 6,
   "metadata": {},
   "outputs": [],
   "source": [
    "import cv2\n",
    "import numpy as np\n",
    "image = cv2.imread('nwbufpqf.png', cv2.IMREAD_GRAYSCALE)"
   ]
  },
  {
   "cell_type": "code",
   "execution_count": 7,
   "metadata": {},
   "outputs": [],
   "source": [
    "_, binary_image = cv2.threshold(image, 0, 255, cv2.THRESH_BINARY_INV + cv2.THRESH_OTSU)"
   ]
  },
  {
   "cell_type": "code",
   "execution_count": 8,
   "metadata": {},
   "outputs": [],
   "source": [
    "pontos_conhecidos = [\n",
    "    (14, 185),   # Canto superior esquerdo\n",
    "    (702, 186),  # Canto superior direito\n",
    "    (14, 912),   # Canto inferior esquerdo\n",
    "    (703, 912)   # Canto inferior direito\n",
    "]"
   ]
  },
  {
   "cell_type": "code",
   "execution_count": 9,
   "metadata": {},
   "outputs": [],
   "source": [
    "_, binary_image = cv2.threshold(image, 0, 255, cv2.THRESH_BINARY_INV + cv2.THRESH_OTSU)"
   ]
  },
  {
   "cell_type": "code",
   "execution_count": 10,
   "metadata": {},
   "outputs": [],
   "source": [
    "src_points = np.float32(pontos_conhecidos)\n",
    "\n",
    "# Definir os pontos de destino (um retângulo)\n",
    "# A largura e altura da região recortada serão baseadas na distância entre os pontos\n",
    "width = int(np.linalg.norm(np.array(pontos_conhecidos[1]) - np.array(pontos_conhecidos[0])))  # Largura\n",
    "height = int(np.linalg.norm(np.array(pontos_conhecidos[2]) - np.array(pontos_conhecidos[0])))  # Altura\n",
    "\n",
    "dst_points = np.float32([[0, 0], [width, 0], [0, height], [width, height]])\n",
    "\n",
    "# Passo 3: Calcular a matriz de transformação de perspectiva\n",
    "matrix = cv2.getPerspectiveTransform(src_points, dst_points)\n",
    "\n",
    "# Passo 4: Aplicar a transformação de perspectiva na imagem binarizada\n",
    "result = cv2.warpPerspective(binary_image, matrix, (width, height))\n",
    "\n",
    "# Passo 5: Salvar a imagem recortada\n",
    "cv2.imwrite('regiao_recortada_binarizada.png', result)\n",
    "\n",
    "# Passo 6: Exibir a região recortada\n",
    "cv2.imshow(\"Região Recortada e Binarizada\", result)\n",
    "cv2.waitKey(0)\n",
    "\n",
    "# Fechar todas as janelas\n",
    "cv2.destroyAllWindows()"
   ]
  },
  {
   "cell_type": "code",
   "execution_count": 3,
   "metadata": {},
   "outputs": [],
   "source": [
    "import pygame\n",
    "\n",
    "# Inicializa o Pygame\n",
    "pygame.init()\n",
    "\n",
    "# Configurações\n",
    "WIDTH, HEIGHT = 600, 600\n",
    "ROWS, COLS = 8, 8\n",
    "SQUARE_SIZE = WIDTH // COLS\n",
    "WHITE = (240, 217, 181)\n",
    "BLACK = (0, 0, 0)\n",
    "\n",
    "# Criando a tela\n",
    "screen = pygame.display.set_mode((WIDTH, HEIGHT))\n",
    "pygame.display.set_caption(\"Xadrez\")\n",
    "\n",
    "def draw_board():\n",
    "    for row in range(ROWS):\n",
    "        for col in range(COLS):\n",
    "            color = WHITE if (row + col) % 2 == 0 else BLACK\n",
    "            pygame.draw.rect(screen, color, (col * SQUARE_SIZE, row * SQUARE_SIZE, SQUARE_SIZE, SQUARE_SIZE))\n",
    "\n",
    "running = True\n",
    "while running:\n",
    "    draw_board()\n",
    "    pygame.display.flip()\n",
    "    \n",
    "    for event in pygame.event.get():\n",
    "        if event.type == pygame.QUIT:\n",
    "            running = False\n",
    "\n",
    "pygame.quit()\n"
   ]
  }
 ],
 "metadata": {
  "kernelspec": {
   "display_name": "Python 3",
   "language": "python",
   "name": "python3"
  },
  "language_info": {
   "codemirror_mode": {
    "name": "ipython",
    "version": 3
   },
   "file_extension": ".py",
   "mimetype": "text/x-python",
   "name": "python",
   "nbconvert_exporter": "python",
   "pygments_lexer": "ipython3",
   "version": "3.11.4"
  }
 },
 "nbformat": 4,
 "nbformat_minor": 2
}
