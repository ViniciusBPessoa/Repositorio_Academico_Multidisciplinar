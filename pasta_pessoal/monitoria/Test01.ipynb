{
 "cells": [
  {
   "cell_type": "code",
   "execution_count": 4,
   "id": "bf19c831",
   "metadata": {},
   "outputs": [],
   "source": [
    "entrada = [(170, \"F\"), (180, \"M\"), (160, \"F\"), (175, \"M\"), (155, \"F\"), (165, \"M\"), (185, \"M\"), (172, \"F\"), (178, \"M\"), (168, \"F\"), (182, \"M\"), (158, \"F\"), (177, \"M\"), (162, \"F\"), (174, \"M\"), (169, \"F\"), (181, \"M\"), (163, \"F\"), (176, \"M\"), (159, \"F\")]"
   ]
  },
  {
   "cell_type": "code",
   "execution_count": 5,
   "id": "b36a6819",
   "metadata": {},
   "outputs": [],
   "source": [
    "def test(entrada : list):\n",
    "    alturas = [x[0] for x in entrada]\n",
    "    sexos = [x[1] for x in entrada]\n",
    "\n",
    "    contagem_M = sexos.count(\"M\")\n",
    "    autura = 0\n",
    "    numero = 0\n",
    "    for x in entrada:\n",
    "        if x[1] == \"F\":\n",
    "            autura += x[0]\n",
    "            numero += 1\n",
    "    media = autura / numero\n",
    "\n",
    "    sexo_maior = sexos[sexos.index(max(sexos))]\n",
    "\n",
    "    print(f\"A maor altura é {max(alturas)} cm, a menor é {min(alturas)} cm\")\n",
    "    print(f\"a media de altura das mulheres é {media:.2f} cm\")\n",
    "    print(f\"o numero de homenens é {contagem_M}\")\n",
    "    print(f\"O sexo da pessoa mais alta é {sexo_maior}\")\n"
   ]
  },
  {
   "cell_type": "code",
   "execution_count": null,
   "id": "607126ff",
   "metadata": {},
   "outputs": [
    {
     "name": "stdout",
     "output_type": "stream",
     "text": [
      "A maor altura é 185 cm, a menor é 155 cm\n",
      "a media de altura das mulheres é 163.60 cm\n",
      "o numero de homenens é 10\n",
      "O sexo da pessoa mais alta é M\n"
     ]
    }
   ],
   "source": [
    "test(entrada)"
   ]
  }
 ],
 "metadata": {
  "kernelspec": {
   "display_name": "Python 3",
   "language": "python",
   "name": "python3"
  },
  "language_info": {
   "codemirror_mode": {
    "name": "ipython",
    "version": 3
   },
   "file_extension": ".py",
   "mimetype": "text/x-python",
   "name": "python",
   "nbconvert_exporter": "python",
   "pygments_lexer": "ipython3",
   "version": "3.13.5"
  }
 },
 "nbformat": 4,
 "nbformat_minor": 5
}
