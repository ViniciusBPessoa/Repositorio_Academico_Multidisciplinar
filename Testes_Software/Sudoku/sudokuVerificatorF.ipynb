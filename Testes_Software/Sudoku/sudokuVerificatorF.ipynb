{
 "cells": [
  {
   "cell_type": "code",
   "execution_count": 25,
   "id": "4e568397",
   "metadata": {},
   "outputs": [],
   "source": [
    "import sudoku, random"
   ]
  },
  {
   "cell_type": "code",
   "execution_count": 144,
   "id": "8ff142e7",
   "metadata": {},
   "outputs": [
    {
     "name": "stdout",
     "output_type": "stream",
     "text": [
      "4793840965371810087\n",
      "Puzzle has exactly one solution\n",
      "+-------+-------+-------+\n",
      "| 8 2 5 | 3 4 9 | 1 6 7 |\n",
      "| 1 9 6 | 2 7 8 | 3 4 5 |\n",
      "| 3 7 4 | 6 1 5 | 8 2 9 |\n",
      "+-------+-------+-------+\n",
      "| 6 4 8 | 7 5 3 | 9 1 2 |\n",
      "| 9 1 3 | 8 6 2 | 5 7 4 |\n",
      "| 2 5 7 | 1 9 4 | 6 8 3 |\n",
      "+-------+-------+-------+\n",
      "| 4 8 2 | 5 3 1 | 7 9 6 |\n",
      "| 5 6 9 | 4 8 7 | 2 3 1 |\n",
      "| 7 3 1 | 9 2 6 | 4 5 8 |\n",
      "+-------+-------+-------+\n",
      "\n"
     ]
    }
   ],
   "source": [
    "aleatorio = random.randint(0, 2**64 - 1)\n",
    "print(aleatorio)\n",
    "tabuleiro = sudoku.Sudoku(3, seed=aleatorio)\n",
    "resposta = tabuleiro.solve()\n",
    "resposta.show()"
   ]
  },
  {
   "cell_type": "code",
   "execution_count": null,
   "id": "04af9aed",
   "metadata": {},
   "outputs": [],
   "source": []
  }
 ],
 "metadata": {
  "kernelspec": {
   "display_name": "venv",
   "language": "python",
   "name": "python3"
  },
  "language_info": {
   "codemirror_mode": {
    "name": "ipython",
    "version": 3
   },
   "file_extension": ".py",
   "mimetype": "text/x-python",
   "name": "python",
   "nbconvert_exporter": "python",
   "pygments_lexer": "ipython3",
   "version": "3.13.5"
  }
 },
 "nbformat": 4,
 "nbformat_minor": 5
}
