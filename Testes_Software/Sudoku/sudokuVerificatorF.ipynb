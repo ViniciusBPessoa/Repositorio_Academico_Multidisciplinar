{
 "cells": [
  {
   "cell_type": "code",
   "execution_count": 11,
   "id": "4e568397",
   "metadata": {},
   "outputs": [],
   "source": [
    "import sudoku, random"
   ]
  },
  {
   "cell_type": "code",
   "execution_count": 9,
   "id": "8ff142e7",
   "metadata": {},
   "outputs": [
    {
     "name": "stdout",
     "output_type": "stream",
     "text": [
      "Puzzle has exactly one solution\n",
      "+-------+-------+-------+\n",
      "| 1 8 9 | 3 2 5 | 4 6 7 |\n",
      "| 6 3 7 | 4 1 8 | 5 9 2 |\n",
      "| 2 4 5 | 7 9 6 | 3 1 8 |\n",
      "+-------+-------+-------+\n",
      "| 3 6 1 | 5 7 9 | 2 8 4 |\n",
      "| 7 5 4 | 1 8 2 | 6 3 9 |\n",
      "| 9 2 8 | 6 3 4 | 1 7 5 |\n",
      "+-------+-------+-------+\n",
      "| 5 9 3 | 2 6 7 | 8 4 1 |\n",
      "| 4 7 6 | 8 5 1 | 9 2 3 |\n",
      "| 8 1 2 | 9 4 3 | 7 5 6 |\n",
      "+-------+-------+-------+\n",
      "\n"
     ]
    }
   ],
   "source": [
    "aleatorio = random.randint(0, 2**64 - 1)\n",
    "tabuleiro = sudoku.Sudoku(3, seed=aleatorio)\n",
    "resposta = tabuleiro.solve()\n",
    "resposta.show()"
   ]
  },
  {
   "cell_type": "code",
   "execution_count": 10,
   "id": "04af9aed",
   "metadata": {},
   "outputs": [
    {
     "name": "stdout",
     "output_type": "stream",
     "text": [
      "[[1, 8, 9, 3, 2, 5, 4, 6, 7], [6, 3, 7, 4, 1, 8, 5, 9, 2], [2, 4, 5, 7, 9, 6, 3, 1, 8], [3, 6, 1, 5, 7, 9, 2, 8, 4], [7, 5, 4, 1, 8, 2, 6, 3, 9], [9, 2, 8, 6, 3, 4, 1, 7, 5], [5, 9, 3, 2, 6, 7, 8, 4, 1], [4, 7, 6, 8, 5, 1, 9, 2, 3], [8, 1, 2, 9, 4, 3, 7, 5, 6]]\n"
     ]
    }
   ],
   "source": [
    "print(resposta.board)"
   ]
  },
  {
   "cell_type": "code",
   "execution_count": null,
   "id": "deec876d",
   "metadata": {},
   "outputs": [],
   "source": []
  }
 ],
 "metadata": {
  "kernelspec": {
   "display_name": "venv",
   "language": "python",
   "name": "python3"
  },
  "language_info": {
   "codemirror_mode": {
    "name": "ipython",
    "version": 3
   },
   "file_extension": ".py",
   "mimetype": "text/x-python",
   "name": "python",
   "nbconvert_exporter": "python",
   "pygments_lexer": "ipython3",
   "version": "3.13.5"
  }
 },
 "nbformat": 4,
 "nbformat_minor": 5
}
